{
 "cells": [
  {
   "cell_type": "code",
   "execution_count": 2,
   "id": "1d41b07d-6666-4bee-809d-2ed476837e4e",
   "metadata": {},
   "outputs": [],
   "source": [
    "f=open(\"D:/textfile.txt\",'w')"
   ]
  },
  {
   "cell_type": "code",
   "execution_count": 3,
   "id": "8269f8a7-b46a-4bd2-9db1-cf727a484c93",
   "metadata": {},
   "outputs": [],
   "source": [
    "f.write(\"first line\\n\")\n",
    "f.write(\"Second line\\n\")\n",
    "f.write(\"third line\\n\")\n",
    "f.close()"
   ]
  },
  {
   "cell_type": "code",
   "execution_count": 4,
   "id": "bba787cd-5408-4eca-8aac-60d510ff2a97",
   "metadata": {},
   "outputs": [],
   "source": [
    "k=open(\"D:/textfile.txt\",'r')"
   ]
  },
  {
   "cell_type": "code",
   "execution_count": 5,
   "id": "3f0ec4ab-53b1-4625-97a3-2e7ead5cf9f1",
   "metadata": {},
   "outputs": [
    {
     "name": "stdout",
     "output_type": "stream",
     "text": [
      "first line\n",
      "\n"
     ]
    }
   ],
   "source": [
    "print(k.readline())"
   ]
  },
  {
   "cell_type": "code",
   "execution_count": 6,
   "id": "e3e85473-97b4-4d2c-904f-6558a8afaea7",
   "metadata": {},
   "outputs": [
    {
     "name": "stdout",
     "output_type": "stream",
     "text": [
      "Second line\n",
      "\n"
     ]
    }
   ],
   "source": [
    "print(k.readline())"
   ]
  },
  {
   "cell_type": "code",
   "execution_count": 7,
   "id": "e4c27009-5114-4ac5-b1a4-6086453ac430",
   "metadata": {},
   "outputs": [
    {
     "name": "stdout",
     "output_type": "stream",
     "text": [
      "third line\n",
      "\n"
     ]
    }
   ],
   "source": [
    "print(k.readline())"
   ]
  },
  {
   "cell_type": "code",
   "execution_count": 8,
   "id": "beee557f-29cf-4e5f-ae8a-66dda56e6c4f",
   "metadata": {},
   "outputs": [],
   "source": [
    "k.close()"
   ]
  },
  {
   "cell_type": "code",
   "execution_count": 9,
   "id": "b1ba2101-2b87-4969-a859-2a6aba245736",
   "metadata": {},
   "outputs": [],
   "source": [
    "m=open(\"D:/textfile.txt\",'a')"
   ]
  },
  {
   "cell_type": "code",
   "execution_count": 10,
   "id": "7c170881-baf3-4f79-a2c4-57087b69fedb",
   "metadata": {},
   "outputs": [
    {
     "data": {
      "text/plain": [
       "12"
      ]
     },
     "execution_count": 10,
     "metadata": {},
     "output_type": "execute_result"
    }
   ],
   "source": [
    "m.write(\"fourth line\\n\")"
   ]
  },
  {
   "cell_type": "code",
   "execution_count": 12,
   "id": "4c518918-3853-48fd-9931-fb9ded866840",
   "metadata": {},
   "outputs": [
    {
     "data": {
      "text/plain": [
       "11"
      ]
     },
     "execution_count": 12,
     "metadata": {},
     "output_type": "execute_result"
    }
   ],
   "source": [
    "m.write(\"fifth line\\n\")"
   ]
  },
  {
   "cell_type": "code",
   "execution_count": 13,
   "id": "ca188cb3-1f1f-436f-ad39-2fa1dede6fe6",
   "metadata": {},
   "outputs": [],
   "source": [
    "m.close()\n"
   ]
  },
  {
   "cell_type": "code",
   "execution_count": 14,
   "id": "f65844a1-cfa7-4d60-abc5-a0fd2cafe925",
   "metadata": {},
   "outputs": [],
   "source": [
    "p=open(\"D:/textfile.txt\",'r')"
   ]
  },
  {
   "cell_type": "code",
   "execution_count": 15,
   "id": "8d0f4b3d-5138-4e08-9f40-0d8613a44935",
   "metadata": {},
   "outputs": [
    {
     "name": "stdout",
     "output_type": "stream",
     "text": [
      "first line\n",
      "Second line\n",
      "third line\n",
      "fourth line\n",
      "five line\n",
      "fifth line\n",
      "\n"
     ]
    }
   ],
   "source": [
    "print(p.read())"
   ]
  },
  {
   "cell_type": "code",
   "execution_count": 16,
   "id": "b828d704-359d-4b97-a180-878261d198ba",
   "metadata": {},
   "outputs": [],
   "source": [
    "p.close()"
   ]
  },
  {
   "cell_type": "code",
   "execution_count": 18,
   "id": "e98e94cc-60ab-4b81-ae0c-032a01bd7e50",
   "metadata": {},
   "outputs": [
    {
     "name": "stdout",
     "output_type": "stream",
     "text": [
      "['first line\\n', 'Second line\\n', 'third line\\n', 'fourth line\\n', 'five line\\n', 'fifth line\\n']\n"
     ]
    }
   ],
   "source": [
    "with open(\"D:/textfile.txt\",'r') as file:\n",
    "    lines=file.readlines()\n",
    "    print(lines)\n",
    "    "
   ]
  },
  {
   "cell_type": "code",
   "execution_count": 19,
   "id": "702636ea-ab86-4bd4-8698-5d6839bfa66e",
   "metadata": {},
   "outputs": [],
   "source": [
    "import json"
   ]
  },
  {
   "cell_type": "code",
   "execution_count": 20,
   "id": "19bf26eb-026c-4419-be5b-bc1a338a62aa",
   "metadata": {},
   "outputs": [],
   "source": [
    "x='{\"name\":\"John\",\"age\":30,\"city\":\"New York\"}'"
   ]
  },
  {
   "cell_type": "code",
   "execution_count": 21,
   "id": "dec337bd-ce48-4d22-8c8e-99b081e34fab",
   "metadata": {},
   "outputs": [],
   "source": [
    "y=json.loads(x)"
   ]
  },
  {
   "cell_type": "code",
   "execution_count": 22,
   "id": "90f09588-2f56-4a7b-9ae5-127c1a101eaf",
   "metadata": {},
   "outputs": [
    {
     "name": "stdout",
     "output_type": "stream",
     "text": [
      "30\n"
     ]
    }
   ],
   "source": [
    "print(y[\"age\"])"
   ]
  },
  {
   "cell_type": "code",
   "execution_count": 23,
   "id": "76bbf88f-cb56-4775-ba00-764f4e5725e8",
   "metadata": {},
   "outputs": [
    {
     "data": {
      "text/plain": [
       "{'name': 'John', 'age': 30, 'city': 'New York'}"
      ]
     },
     "execution_count": 23,
     "metadata": {},
     "output_type": "execute_result"
    }
   ],
   "source": [
    "x\n",
    "{\"name\":\"John\",\"age\":30,\"city\":\"New York\"\n",
    "}"
   ]
  },
  {
   "cell_type": "code",
   "execution_count": 24,
   "id": "5c083134-777d-43db-8a38-c28ab4074359",
   "metadata": {},
   "outputs": [],
   "source": [
    "y=json.dumps(x)"
   ]
  },
  {
   "cell_type": "code",
   "execution_count": 25,
   "id": "a93ce8d3-11f8-4590-bdd5-1c38912572db",
   "metadata": {},
   "outputs": [
    {
     "name": "stdout",
     "output_type": "stream",
     "text": [
      "\"{\\\"name\\\":\\\"John\\\",\\\"age\\\":30,\\\"city\\\":\\\"New York\\\"}\"\n"
     ]
    }
   ],
   "source": [
    "print(y)"
   ]
  },
  {
   "cell_type": "code",
   "execution_count": null,
   "id": "31106dac-8c4c-4844-a7d8-bfd59c0a409f",
   "metadata": {},
   "outputs": [],
   "source": []
  }
 ],
 "metadata": {
  "kernelspec": {
   "display_name": "Python 3 (ipykernel)",
   "language": "python",
   "name": "python3"
  },
  "language_info": {
   "codemirror_mode": {
    "name": "ipython",
    "version": 3
   },
   "file_extension": ".py",
   "mimetype": "text/x-python",
   "name": "python",
   "nbconvert_exporter": "python",
   "pygments_lexer": "ipython3",
   "version": "3.11.7"
  }
 },
 "nbformat": 4,
 "nbformat_minor": 5
}
