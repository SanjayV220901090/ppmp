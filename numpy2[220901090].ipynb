{
 "cells": [
  {
   "cell_type": "code",
   "execution_count": 1,
   "id": "be1229c0",
   "metadata": {},
   "outputs": [],
   "source": [
    "import numpy as np"
   ]
  },
  {
   "cell_type": "code",
   "execution_count": 2,
   "id": "21813ea9",
   "metadata": {},
   "outputs": [],
   "source": [
    "arr=np.array([[-1,2,0,4],[4,-0.5,6,0],[2.6,0,7,8],[3,-7,4,2.0]])\n"
   ]
  },
  {
   "cell_type": "code",
   "execution_count": 3,
   "id": "a4988e22",
   "metadata": {},
   "outputs": [
    {
     "name": "stdout",
     "output_type": "stream",
     "text": [
      "original array:\n",
      " [[-1.   2.   0.   4. ]\n",
      " [ 4.  -0.5  6.   0. ]\n",
      " [ 2.6  0.   7.   8. ]\n",
      " [ 3.  -7.   4.   2. ]]\n"
     ]
    }
   ],
   "source": [
    "print(\"original array:\\n\",arr)"
   ]
  },
  {
   "cell_type": "code",
   "execution_count": 4,
   "id": "3354a3d3",
   "metadata": {},
   "outputs": [
    {
     "name": "stdout",
     "output_type": "stream",
     "text": [
      "\n",
      "every other rows: [[-1.   2.   0.   4. ]\n",
      " [ 2.6  0.   7.   8. ]]\n"
     ]
    }
   ],
   "source": [
    "print(\"\\nevery other rows:\",arr[0:3:2])"
   ]
  },
  {
   "cell_type": "code",
   "execution_count": 5,
   "id": "f5231c4b",
   "metadata": {},
   "outputs": [
    {
     "name": "stdout",
     "output_type": "stream",
     "text": [
      "\n",
      "array with [[-1.   2.   0. ]\n",
      " [ 4.  -0.5  6. ]]\n"
     ]
    }
   ],
   "source": [
    "temp=arr[:2,:3];\n",
    "print(\"\\narray with\",temp)"
   ]
  },
  {
   "cell_type": "code",
   "execution_count": 6,
   "id": "58f61faf",
   "metadata": {},
   "outputs": [
    {
     "name": "stdout",
     "output_type": "stream",
     "text": [
      "element: [4. 6. 0. 3.]\n"
     ]
    }
   ],
   "source": [
    "temp=arr[[0,1,2,3],[3,2,1,0]]\n",
    "print(\"element:\",temp)"
   ]
  },
  {
   "cell_type": "code",
   "execution_count": 8,
   "id": "9d26ede3",
   "metadata": {},
   "outputs": [
    {
     "name": "stdout",
     "output_type": "stream",
     "text": [
      "[4.  4.  6.  2.6 7.  8.  3.  4. ]\n"
     ]
    }
   ],
   "source": [
    "cond=arr>2\n",
    "temp=arr[cond]\n",
    "print(temp)"
   ]
  },
  {
   "cell_type": "code",
   "execution_count": 9,
   "id": "14239f22",
   "metadata": {},
   "outputs": [
    {
     "name": "stdout",
     "output_type": "stream",
     "text": [
      "[1 2 3 4 5 6 7]\n",
      "[1 3 5 7]\n"
     ]
    }
   ],
   "source": [
    "arr=np.array([1,2,3,4,5,6,7])\n",
    "print(arr)\n",
    "print(arr[::2])"
   ]
  },
  {
   "cell_type": "code",
   "execution_count": 10,
   "id": "7dd003c4",
   "metadata": {},
   "outputs": [
    {
     "name": "stdout",
     "output_type": "stream",
     "text": [
      "\n",
      "Original arrays:\n",
      " [1 2 3] [4 5 6]\n",
      "\n",
      "joined array:\n",
      " [1 2 3 4 5 6]\n"
     ]
    }
   ],
   "source": [
    "arr1=np.array([1,2,3])\n",
    "arr2=np.array([4,5,6])\n",
    "arr=np.concatenate((arr1,arr2))\n",
    "print(\"\\nOriginal arrays:\\n\",arr1,arr2)\n",
    "print(\"\\njoined array:\\n\",arr)"
   ]
  },
  {
   "cell_type": "code",
   "execution_count": 11,
   "id": "00da4f2e",
   "metadata": {},
   "outputs": [
    {
     "name": "stdout",
     "output_type": "stream",
     "text": [
      "\n",
      "Horizondal joining:\n",
      " [1 2 3 4 5 6]\n"
     ]
    }
   ],
   "source": [
    "arr=np.hstack((arr1,arr2))\n",
    "print(\"\\nHorizondal joining:\\n\",arr)"
   ]
  },
  {
   "cell_type": "code",
   "execution_count": 12,
   "id": "e1907527",
   "metadata": {},
   "outputs": [
    {
     "name": "stdout",
     "output_type": "stream",
     "text": [
      "\n",
      "vertical joining:\n",
      " [[1 2 3]\n",
      " [4 5 6]]\n"
     ]
    }
   ],
   "source": [
    "arr=np.vstack((arr1,arr2))\n",
    "print(\"\\nvertical joining:\\n\",arr)\n"
   ]
  },
  {
   "cell_type": "code",
   "execution_count": 13,
   "id": "0e8db84e",
   "metadata": {},
   "outputs": [
    {
     "name": "stdout",
     "output_type": "stream",
     "text": [
      "\n",
      "Depth joining:\n",
      " [[[1 4]\n",
      "  [2 5]\n",
      "  [3 6]]]\n"
     ]
    }
   ],
   "source": [
    "arr=np.dstack((arr1,arr2))\n",
    "print(\"\\nDepth joining:\\n\",arr)"
   ]
  },
  {
   "cell_type": "code",
   "execution_count": 15,
   "id": "025cbe6e",
   "metadata": {},
   "outputs": [
    {
     "name": "stdout",
     "output_type": "stream",
     "text": [
      "\n",
      " original array:\n",
      " [1 2 3 4 5 6]\n",
      "\n",
      " Spitted array:\n",
      " [array([1, 2]), array([3, 4]), array([5, 6])]\n"
     ]
    }
   ],
   "source": [
    "arr=np.array([1,2,3,4,5,6])\n",
    "newarr=np.array_split(arr,3)\n",
    "print(\"\\n original array:\\n\",arr)\n",
    "print(\"\\n Spitted array:\\n\",newarr)"
   ]
  },
  {
   "cell_type": "code",
   "execution_count": 16,
   "id": "53516a2f",
   "metadata": {},
   "outputs": [
    {
     "name": "stdout",
     "output_type": "stream",
     "text": [
      "\n",
      "Splitted array in another form:\n",
      "\n",
      "[1 2]\n",
      "[3 4]\n",
      "[5 6]\n"
     ]
    }
   ],
   "source": [
    "print(\"\\nSplitted array in another form:\\n\")\n",
    "print(newarr[0])\n",
    "print(newarr[1])\n",
    "print(newarr[2])"
   ]
  },
  {
   "cell_type": "code",
   "execution_count": null,
   "id": "b268d177",
   "metadata": {},
   "outputs": [],
   "source": []
  }
 ],
 "metadata": {
  "kernelspec": {
   "display_name": "Python 3 (ipykernel)",
   "language": "python",
   "name": "python3"
  },
  "language_info": {
   "codemirror_mode": {
    "name": "ipython",
    "version": 3
   },
   "file_extension": ".py",
   "mimetype": "text/x-python",
   "name": "python",
   "nbconvert_exporter": "python",
   "pygments_lexer": "ipython3",
   "version": "3.9.12"
  }
 },
 "nbformat": 4,
 "nbformat_minor": 5
}
