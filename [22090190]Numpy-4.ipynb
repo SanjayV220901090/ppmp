{
 "cells": [
  {
   "cell_type": "code",
   "execution_count": 1,
   "id": "11e342df-77a0-4e01-bea7-61dfb5909179",
   "metadata": {},
   "outputs": [],
   "source": [
    "import numpy as np"
   ]
  },
  {
   "cell_type": "code",
   "execution_count": 2,
   "id": "4c8d617e-e495-4ab5-b400-927c4d59b184",
   "metadata": {},
   "outputs": [
    {
     "name": "stdout",
     "output_type": "stream",
     "text": [
      "Original arrays\n",
      "[10 20 30 40 50]\n",
      "[ 2  4  5  8 10]\n"
     ]
    }
   ],
   "source": [
    "arr1=[10,20,30,40,50] \n",
    "arr2=[2,4,5,8,10] \n",
    "a=np.array(arr1)w\n",
    "b=np.array(arr2)\n",
    "print(\"Original arrays\")\n",
    "print(a)\n",
    "print(b)\n",
    "\n",
    "\n"
   ]
  },
  {
   "cell_type": "code",
   "execution_count": 3,
   "id": "0d9e836c-9fe1-45f6-909a-55d180e705b2",
   "metadata": {},
   "outputs": [
    {
     "name": "stdout",
     "output_type": "stream",
     "text": [
      "\n",
      "Vector addition\n",
      "[12 24 35 48 60]\n"
     ]
    }
   ],
   "source": [
    "print(\"\\nVector addition\")\n",
    "\n",
    "print(a+b)\n",
    "\n"
   ]
  },
  {
   "cell_type": "code",
   "execution_count": 4,
   "id": "1c727771-a75b-4335-8a51-6d9dbf164ddd",
   "metadata": {},
   "outputs": [
    {
     "name": "stdout",
     "output_type": "stream",
     "text": [
      "\n",
      "Vector subtraction\n",
      "[ 8 16 25 32 40]\n"
     ]
    }
   ],
   "source": [
    "print(\"\\nVector subtraction\")\n",
    "\n",
    "print(a-b)\n"
   ]
  },
  {
   "cell_type": "code",
   "execution_count": 5,
   "id": "54a035ba-4554-42db-bc3f-e576e42ac986",
   "metadata": {},
   "outputs": [
    {
     "name": "stdout",
     "output_type": "stream",
     "text": [
      "\n",
      "Vector multiplication\n",
      "[ 20  80 150 320 500]\n"
     ]
    }
   ],
   "source": [
    "print(\"\\nVector multiplication\")\n",
    "\n",
    "print(a*b)\n"
   ]
  },
  {
   "cell_type": "code",
   "execution_count": 6,
   "id": "a953e872-998c-4268-a229-00ebaa6a48f3",
   "metadata": {},
   "outputs": [
    {
     "name": "stdout",
     "output_type": "stream",
     "text": [
      "\n",
      "Vector division\n",
      "[5. 5. 6. 5. 5.]\n"
     ]
    }
   ],
   "source": [
    "print(\"\\nVector division\")\n",
    "\n",
    "print(a/b)\n"
   ]
  },
  {
   "cell_type": "code",
   "execution_count": 8,
   "id": "1359ba04-6a33-42ba-ad61-95a2ec8158a2",
   "metadata": {},
   "outputs": [
    {
     "name": "stdout",
     "output_type": "stream",
     "text": [
      "\n",
      "Vector Dot product\n",
      "1070\n"
     ]
    }
   ],
   "source": [
    "print(\"\\nVector Dot product\")\n",
    "\n",
    "print(a.dot(b))\n"
   ]
  },
  {
   "cell_type": "code",
   "execution_count": 9,
   "id": "ffb6ad4c-00e9-406e-b0d2-da15d0e37431",
   "metadata": {},
   "outputs": [
    {
     "name": "stdout",
     "output_type": "stream",
     "text": [
      "\n",
      "Scalar multiplication\n",
      " scalar value= 5\n",
      " array= [10 20 30 40 50]\n",
      " result= [ 50 100 150 200 250]\n"
     ]
    }
   ],
   "source": [
    "print(\"\\nScalar multiplication\")\n",
    "sclr=5\n",
    "print(\" scalar value=\",sclr)\n",
    "\n",
    "print(\" array=\",a)\n",
    "\n",
    "print(\" result=\",a*sclr)\n",
    "\n"
   ]
  },
  {
   "cell_type": "code",
   "execution_count": 11,
   "id": "0d5d21f8-bd49-4c28-ade2-27a2c124d676",
   "metadata": {},
   "outputs": [
    {
     "name": "stdout",
     "output_type": "stream",
     "text": [
      "\n",
      "\n",
      "Numpy.Vectorize method\n",
      "(Return x-y if x>y,otherwise return x+y)\n",
      "array1: [10, 4, 20]\n",
      "array2: [2, 3, 30]\n",
      "result: [ 8  1 50]\n"
     ]
    }
   ],
   "source": [
    "def my_func(x, y):\n",
    "    if x>y:\n",
    "        return x-y\n",
    "    else:\n",
    "        return x+y\n",
    "print(\"\\n\\nNumpy.Vectorize method\")\n",
    "print(\"(Return x-y if x>y,otherwise return x+y)\")\n",
    "arr1=[10,4,20]\n",
    "arr2=[2,3,30]\n",
    "vec_func=np.vectorize(my_func)\n",
    "print(\"array1:\",arr1)\n",
    "print(\"array2:\",arr2)\n",
    "print(\"result:\",vec_func(arr1,arr2))\n",
    "    "
   ]
  },
  {
   "cell_type": "code",
   "execution_count": null,
   "id": "757c6728-ad11-4c5f-8ba3-54e7f1c575aa",
   "metadata": {},
   "outputs": [],
   "source": []
  }
 ],
 "metadata": {
  "kernelspec": {
   "display_name": "Python 3 (ipykernel)",
   "language": "python",
   "name": "python3"
  },
  "language_info": {
   "codemirror_mode": {
    "name": "ipython",
    "version": 3
   },
   "file_extension": ".py",
   "mimetype": "text/x-python",
   "name": "python",
   "nbconvert_exporter": "python",
   "pygments_lexer": "ipython3",
   "version": "3.12.4"
  }
 },
 "nbformat": 4,
 "nbformat_minor": 5
}
