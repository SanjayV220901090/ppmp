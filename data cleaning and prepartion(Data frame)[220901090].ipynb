{
 "cells": [
  {
   "cell_type": "code",
   "execution_count": 1,
   "id": "c55b9a25",
   "metadata": {},
   "outputs": [],
   "source": [
    "import pandas as pd"
   ]
  },
  {
   "cell_type": "code",
   "execution_count": 2,
   "id": "f7a0a343",
   "metadata": {},
   "outputs": [],
   "source": [
    "import numpy as np"
   ]
  },
  {
   "cell_type": "code",
   "execution_count": 5,
   "id": "478ab94d",
   "metadata": {},
   "outputs": [],
   "source": [
    "df=pd.DataFrame(np.random.randn(5,3),index=['a','c','e','f','h'],columns=['one','two','three'])"
   ]
  },
  {
   "cell_type": "code",
   "execution_count": 6,
   "id": "922b2f20",
   "metadata": {},
   "outputs": [],
   "source": [
    "df=df.reindex(['a','b','c','e','f','g','h'])"
   ]
  },
  {
   "cell_type": "code",
   "execution_count": 7,
   "id": "637cb567",
   "metadata": {},
   "outputs": [
    {
     "name": "stdout",
     "output_type": "stream",
     "text": [
      "        one       two     three\n",
      "a  0.116471 -1.677714 -1.033878\n",
      "b       NaN       NaN       NaN\n",
      "c -3.031637 -0.930780 -0.552064\n",
      "e -0.570611  1.655626 -0.079073\n",
      "f -0.301462 -0.698936  0.616151\n",
      "g       NaN       NaN       NaN\n",
      "h -0.401997  1.416348  0.112528\n"
     ]
    }
   ],
   "source": [
    "print(df)"
   ]
  },
  {
   "cell_type": "code",
   "execution_count": 8,
   "id": "8632767e",
   "metadata": {},
   "outputs": [
    {
     "name": "stdout",
     "output_type": "stream",
     "text": [
      "        one       two     three\n",
      "a  0.116471 -1.677714 -1.033878\n",
      "c -3.031637 -0.930780 -0.552064\n",
      "e -0.570611  1.655626 -0.079073\n",
      "f -0.301462 -0.698936  0.616151\n",
      "h -0.401997  1.416348  0.112528\n"
     ]
    }
   ],
   "source": [
    "print(df.dropna())"
   ]
  },
  {
   "cell_type": "code",
   "execution_count": 9,
   "id": "8feaaa48",
   "metadata": {},
   "outputs": [],
   "source": [
    "df=pd.DataFrame(np.random.randn(3,3),index=['a','c','e'],columns=['one','two','three'])"
   ]
  },
  {
   "cell_type": "code",
   "execution_count": 10,
   "id": "a773df59",
   "metadata": {},
   "outputs": [],
   "source": [
    "df=df.reindex(['a','b','c'])"
   ]
  },
  {
   "cell_type": "code",
   "execution_count": 11,
   "id": "ecaf57a3",
   "metadata": {},
   "outputs": [
    {
     "name": "stdout",
     "output_type": "stream",
     "text": [
      "        one       two     three\n",
      "a  0.093691  0.972099  0.302733\n",
      "b       NaN       NaN       NaN\n",
      "c  0.222564  1.580834 -0.713859\n"
     ]
    }
   ],
   "source": [
    "print(df)"
   ]
  },
  {
   "cell_type": "code",
   "execution_count": 12,
   "id": "2eaf1707",
   "metadata": {},
   "outputs": [
    {
     "name": "stdout",
     "output_type": "stream",
     "text": [
      "        one       two     three\n",
      "a  0.093691  0.972099  0.302733\n",
      "b  0.000000  0.000000  0.000000\n",
      "c  0.222564  1.580834 -0.713859\n"
     ]
    }
   ],
   "source": [
    "print(df.fillna(0))"
   ]
  },
  {
   "cell_type": "code",
   "execution_count": 13,
   "id": "cf9b09bd",
   "metadata": {},
   "outputs": [],
   "source": [
    "df=pd.DataFrame({'one':[10,20,30,40,50,2000],\n",
    "                'two':[1000,0,30,40,50,60]})"
   ]
  },
  {
   "cell_type": "code",
   "execution_count": 14,
   "id": "5e460734",
   "metadata": {},
   "outputs": [
    {
     "name": "stdout",
     "output_type": "stream",
     "text": [
      "    one   two\n",
      "0    10  1000\n",
      "1    20     0\n",
      "2    30    30\n",
      "3    40    40\n",
      "4    50    50\n",
      "5  2000    60\n"
     ]
    }
   ],
   "source": [
    "print(df)"
   ]
  },
  {
   "cell_type": "code",
   "execution_count": 15,
   "id": "5d0f88c7",
   "metadata": {},
   "outputs": [
    {
     "name": "stdout",
     "output_type": "stream",
     "text": [
      "   one  two\n",
      "0   10   10\n",
      "1   20  100\n",
      "2   30   30\n",
      "3  400  400\n",
      "4   50   50\n",
      "5   60   60\n"
     ]
    }
   ],
   "source": [
    "print(df.replace({1000:10,2000:60,40:400,0:100}))"
   ]
  },
  {
   "cell_type": "code",
   "execution_count": 18,
   "id": "6cec182b",
   "metadata": {},
   "outputs": [],
   "source": [
    "df=pd.DataFrame(np.random.randn(5,3),index=['a','c','e','f','h'],columns=['one','two','three'])"
   ]
  },
  {
   "cell_type": "code",
   "execution_count": 19,
   "id": "2471a08b",
   "metadata": {},
   "outputs": [],
   "source": [
    "df=df.reindex(['a','b','c','e','f','g','h'])"
   ]
  },
  {
   "cell_type": "code",
   "execution_count": 20,
   "id": "8e70fc3e",
   "metadata": {},
   "outputs": [
    {
     "name": "stdout",
     "output_type": "stream",
     "text": [
      "        one       two     three\n",
      "a -0.086636  0.474354  1.224771\n",
      "b       NaN       NaN       NaN\n",
      "c  0.848051  0.682119 -0.380009\n",
      "e  0.018886  0.853911 -1.547102\n",
      "f  0.811650 -0.051795  0.210163\n",
      "g       NaN       NaN       NaN\n",
      "h -0.354511  0.821830  0.769139\n"
     ]
    }
   ],
   "source": [
    "print(df)"
   ]
  },
  {
   "cell_type": "code",
   "execution_count": 24,
   "id": "fdb41da8",
   "metadata": {},
   "outputs": [
    {
     "name": "stdout",
     "output_type": "stream",
     "text": [
      "a    False\n",
      "b     True\n",
      "c    False\n",
      "e    False\n",
      "f    False\n",
      "g     True\n",
      "h    False\n",
      "Name: two, dtype: bool\n"
     ]
    }
   ],
   "source": [
    "print(df['two'].isnull())"
   ]
  },
  {
   "cell_type": "code",
   "execution_count": 25,
   "id": "6a2d8ff0",
   "metadata": {},
   "outputs": [
    {
     "name": "stdout",
     "output_type": "stream",
     "text": [
      "        one       two     three\n",
      "a -0.086636  0.474354  1.224771\n",
      "b -0.086636  0.474354  1.224771\n",
      "c  0.848051  0.682119 -0.380009\n",
      "e  0.018886  0.853911 -1.547102\n",
      "f  0.811650 -0.051795  0.210163\n",
      "g  0.811650 -0.051795  0.210163\n",
      "h -0.354511  0.821830  0.769139\n"
     ]
    }
   ],
   "source": [
    "print(df.fillna(method='pad'))"
   ]
  },
  {
   "cell_type": "code",
   "execution_count": 26,
   "id": "c1a09a77",
   "metadata": {},
   "outputs": [
    {
     "name": "stdout",
     "output_type": "stream",
     "text": [
      "        one       two     three\n",
      "a -0.086636  0.474354  1.224771\n",
      "b  0.848051  0.682119 -0.380009\n",
      "c  0.848051  0.682119 -0.380009\n",
      "e  0.018886  0.853911 -1.547102\n",
      "f  0.811650 -0.051795  0.210163\n",
      "g -0.354511  0.821830  0.769139\n",
      "h -0.354511  0.821830  0.769139\n"
     ]
    }
   ],
   "source": [
    "print(df.fillna(method='bfill'))"
   ]
  },
  {
   "cell_type": "code",
   "execution_count": null,
   "id": "618e06eb",
   "metadata": {},
   "outputs": [],
   "source": []
  }
 ],
 "metadata": {
  "kernelspec": {
   "display_name": "Python 3 (ipykernel)",
   "language": "python",
   "name": "python3"
  },
  "language_info": {
   "codemirror_mode": {
    "name": "ipython",
    "version": 3
   },
   "file_extension": ".py",
   "mimetype": "text/x-python",
   "name": "python",
   "nbconvert_exporter": "python",
   "pygments_lexer": "ipython3",
   "version": "3.9.12"
  }
 },
 "nbformat": 4,
 "nbformat_minor": 5
}
