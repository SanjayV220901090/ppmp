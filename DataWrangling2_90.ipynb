{
 "cells": [
  {
   "cell_type": "code",
   "execution_count": 2,
   "id": "59b91cfe",
   "metadata": {},
   "outputs": [
    {
     "name": "stdout",
     "output_type": "stream",
     "text": [
      "Original Values:\n",
      "      Name  Age Gender Marks\n",
      "0  sanjay   20      M    68\n",
      "1   saran   98      F    10\n",
      "2    Subu   95      M   NaN\n",
      "3     Som  105      F   NaN\n",
      "4      sk   78      M    99\n"
     ]
    }
   ],
   "source": [
    "import pandas as pd\n",
    "data = {'Name':['sanjay','saran','Subu','Som','sk'],\n",
    "       'Age':[20,98,95,105,78],\n",
    "       'Gender':['M','F','M','F','M'],\n",
    "       'Marks':[68,10,'NaN','NaN',99]}\n",
    "df = pd.DataFrame(data)\n",
    "print(\"Original Values:\\n\",df)\n"
   ]
  },
  {
   "cell_type": "code",
   "execution_count": 3,
   "id": "ac0354f4",
   "metadata": {},
   "outputs": [
    {
     "name": "stdout",
     "output_type": "stream",
     "text": [
      "Replacing values:\n",
      "       Name  Age Gender  Marks\n",
      "0  sanjay   20      M   68.0\n",
      "1   saran   98      F   10.0\n",
      "2    Subu   95      M   59.0\n",
      "3     Som  105      F   59.0\n",
      "4      sk   78      M   99.0\n"
     ]
    },
    {
     "name": "stderr",
     "output_type": "stream",
     "text": [
      "C:\\Users\\vsanj\\AppData\\Local\\Temp\\ipykernel_29096\\3475286881.py:7: FutureWarning: Downcasting behavior in `replace` is deprecated and will be removed in a future version. To retain the old behavior, explicitly call `result.infer_objects(copy=False)`. To opt-in to the future behavior, set `pd.set_option('future.no_silent_downcasting', True)`\n",
      "  df = df.replace(to_replace = 'NaN',value = avg)\n"
     ]
    }
   ],
   "source": [
    "c = avg = 0\n",
    "for ele in df['Marks']:\n",
    "    if str(ele).isnumeric():\n",
    "        c+=1\n",
    "        avg+=ele\n",
    "avg/=c\n",
    "df = df.replace(to_replace = 'NaN',value = avg)\n",
    "print(\"Replacing values:\\n \",df)"
   ]
  },
  {
   "cell_type": "code",
   "execution_count": 4,
   "id": "4daf78dd",
   "metadata": {},
   "outputs": [
    {
     "name": "stdout",
     "output_type": "stream",
     "text": [
      "  Name  Age Gender  Marks\n",
      "4   sk   78      M   99.0\n"
     ]
    }
   ],
   "source": [
    "df = df[df['Marks']>=75]\n",
    "\n",
    "print(df)"
   ]
  },
  {
   "cell_type": "code",
   "execution_count": 5,
   "id": "1577e76b",
   "metadata": {},
   "outputs": [
    {
     "name": "stdout",
     "output_type": "stream",
     "text": [
      "  Name  Age  Marks\n",
      "4   sk   78   99.0\n"
     ]
    }
   ],
   "source": [
    "df  = df.drop(['Gender'],axis = 1)\n",
    "print(df)"
   ]
  },
  {
   "cell_type": "code",
   "execution_count": 6,
   "id": "8e5800f5",
   "metadata": {},
   "outputs": [
    {
     "name": "stdout",
     "output_type": "stream",
     "text": [
      "Concatenated DataFrame      Name  Age  Marks\n",
      "1  sanjay   20     65\n",
      "2   saran   22     75\n",
      "1   sangu   52     98\n",
      "2     sai   45     99\n"
     ]
    }
   ],
   "source": [
    "a = pd.DataFrame({\n",
    "    'Name':['sanjay','saran'],\n",
    "    'Age':[20,22],\n",
    "    'Marks':[65,75]\n",
    "},\n",
    "index = [1,2])\n",
    "b = pd.DataFrame({\n",
    "    'Name':['sangu','sai'],\n",
    "    'Age':[52,45],\n",
    "    'Marks':[98,99]\n",
    "},\n",
    "index = [1,2])\n",
    "print(\"Concatenated DataFrame\",pd.concat([a,b]))"
   ]
  },
  {
   "cell_type": "code",
   "execution_count": null,
   "id": "6d4fc2fb-ee15-417f-9670-5657b873c244",
   "metadata": {},
   "outputs": [],
   "source": []
  }
 ],
 "metadata": {
  "kernelspec": {
   "display_name": "Python 3 (ipykernel)",
   "language": "python",
   "name": "python3"
  },
  "language_info": {
   "codemirror_mode": {
    "name": "ipython",
    "version": 3
   },
   "file_extension": ".py",
   "mimetype": "text/x-python",
   "name": "python",
   "nbconvert_exporter": "python",
   "pygments_lexer": "ipython3",
   "version": "3.12.4"
  }
 },
 "nbformat": 4,
 "nbformat_minor": 5
}
