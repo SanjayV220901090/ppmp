{
 "cells": [
  {
   "cell_type": "code",
   "execution_count": 3,
   "id": "9455d12d-a934-438e-9669-57542deeeba9",
   "metadata": {},
   "outputs": [
    {
     "name": "stdout",
     "output_type": "stream",
     "text": [
      "Get the table data:\n",
      "\n",
      "    First Name  Gender  Start Date Last Login Time  Salary  Bonus %  \\\n",
      "0      Douglas    Male    8/6/1993        12:42 PM   97308    6.945   \n",
      "1       Thomas    Male   3/31/1996         6:53 AM   61933    4.170   \n",
      "2        Maria  Female   4/23/1993        11:17 AM  130590   11.858   \n",
      "3        Jerry    Male    3/4/2005         1:00 PM  138705    9.340   \n",
      "4        Larry    Male   1/24/1998         4:47 PM  101004    1.389   \n",
      "..         ...     ...         ...             ...     ...      ...   \n",
      "995      Henry     NaN  11/23/2014         6:09 AM  132483   16.655   \n",
      "996    Phillip    Male   1/31/1984         6:30 AM   42392   19.675   \n",
      "997    Russell    Male   5/20/2013        12:39 PM   96914    1.421   \n",
      "998      Larry    Male   4/20/2013         4:45 PM   60500   11.985   \n",
      "999     Albert    Male   5/15/2012         6:24 PM  129949   10.169   \n",
      "\n",
      "    Senior Management                  Team  \n",
      "0                True             Marketing  \n",
      "1                True                   NaN  \n",
      "2               False               Finance  \n",
      "3                True               Finance  \n",
      "4                True       Client Services  \n",
      "..                ...                   ...  \n",
      "995             False          Distribution  \n",
      "996             False               Finance  \n",
      "997             False               Product  \n",
      "998             False  Business Development  \n",
      "999              True                 Sales  \n",
      "\n",
      "[1000 rows x 8 columns]\n"
     ]
    }
   ],
   "source": [
    "import pandas as pd\n",
    "d=pd.read_csv(\"C:/Users/Tcs/Desktop/employees.csv\")\n",
    "#Get the table data\n",
    "print(\"Get the table data:\\n\")\n",
    "print(d)\n",
    "#print(d.to_string())"
   ]
  },
  {
   "cell_type": "code",
   "execution_count": 4,
   "id": "1b749564-46d1-43a7-9154-bdac3f57e7fd",
   "metadata": {},
   "outputs": [
    {
     "name": "stdout",
     "output_type": "stream",
     "text": [
      "\n",
      "Get the column healing\n",
      " Index(['First Name', 'Gender', 'Start Date', 'Last Login Time', 'Salary',\n",
      "       'Bonus %', 'Senior Management', 'Team'],\n",
      "      dtype='object')\n"
     ]
    }
   ],
   "source": [
    "df=pd.DataFrame(d)\n",
    "print(\"\\nGet the column healing\\n\",df.columns)"
   ]
  },
  {
   "cell_type": "code",
   "execution_count": 5,
   "id": "cd4ab7ae",
   "metadata": {},
   "outputs": [
    {
     "name": "stdout",
     "output_type": "stream",
     "text": [
      "(1000, 8)\n"
     ]
    }
   ],
   "source": [
    "print(df.shape)"
   ]
  },
  {
   "cell_type": "code",
   "execution_count": 9,
   "id": "e0453f34",
   "metadata": {},
   "outputs": [
    {
     "name": "stdout",
     "output_type": "stream",
     "text": [
      "0       97308\n",
      "1       61933\n",
      "2      130590\n",
      "3      138705\n",
      "4      101004\n",
      "        ...  \n",
      "995    132483\n",
      "996     42392\n",
      "997     96914\n",
      "998     60500\n",
      "999    129949\n",
      "Name: Salary, Length: 1000, dtype: int64\n"
     ]
    }
   ],
   "source": [
    "print(df['Salary'])"
   ]
  },
  {
   "cell_type": "code",
   "execution_count": 10,
   "id": "98a305c0",
   "metadata": {},
   "outputs": [
    {
     "name": "stdout",
     "output_type": "stream",
     "text": [
      "  First Name  Gender Start Date Last Login Time  Salary  Bonus %  \\\n",
      "2      Maria  Female  4/23/1993        11:17 AM  130590   11.858   \n",
      "3      Jerry    Male   3/4/2005         1:00 PM  138705    9.340   \n",
      "4      Larry    Male  1/24/1998         4:47 PM  101004    1.389   \n",
      "\n",
      "  Senior Management             Team  \n",
      "2             False          Finance  \n",
      "3              True          Finance  \n",
      "4              True  Client Services  \n"
     ]
    }
   ],
   "source": [
    "print(df[2:5])"
   ]
  },
  {
   "cell_type": "code",
   "execution_count": 11,
   "id": "e3c0e426",
   "metadata": {},
   "outputs": [
    {
     "name": "stdout",
     "output_type": "stream",
     "text": [
      "First Name                 NaN\n",
      "Gender                  Female\n",
      "Start Date           7/20/2015\n",
      "Last Login Time       10:43 AM\n",
      "Salary                   45906\n",
      "Bonus %                 11.598\n",
      "Senior Management          NaN\n",
      "Team                   Finance\n",
      "Name: 7, dtype: object\n"
     ]
    }
   ],
   "source": [
    "print(df.loc[7])"
   ]
  },
  {
   "cell_type": "code",
   "execution_count": 12,
   "id": "5343e86d",
   "metadata": {},
   "outputs": [
    {
     "name": "stdout",
     "output_type": "stream",
     "text": [
      "  First Name Gender Start Date Last Login Time  Salary  Bonus %  \\\n",
      "1     Thomas   Male  3/31/1996         6:53 AM   61933     4.17   \n",
      "\n",
      "  Senior Management Team  \n",
      "1              True  NaN  \n"
     ]
    }
   ],
   "source": [
    "print(d.loc[d['Salary']==61933])"
   ]
  },
  {
   "cell_type": "code",
   "execution_count": 13,
   "id": "c36ad96d",
   "metadata": {},
   "outputs": [
    {
     "name": "stdout",
     "output_type": "stream",
     "text": [
      "0      19461.6\n",
      "1      12386.6\n",
      "2      26118.0\n",
      "3      27741.0\n",
      "4      20200.8\n",
      "        ...   \n",
      "995    26496.6\n",
      "996     8478.4\n",
      "997    19382.8\n",
      "998    12100.0\n",
      "999    25989.8\n",
      "Name: Salary, Length: 1000, dtype: float64\n"
     ]
    }
   ],
   "source": [
    "df=d[\"Salary\"]/5\n",
    "print(df)"
   ]
  },
  {
   "cell_type": "code",
   "execution_count": null,
   "id": "f962b90e",
   "metadata": {},
   "outputs": [],
   "source": []
  }
 ],
 "metadata": {
  "kernelspec": {
   "display_name": "Python 3 (ipykernel)",
   "language": "python",
   "name": "python3"
  },
  "language_info": {
   "codemirror_mode": {
    "name": "ipython",
    "version": 3
   },
   "file_extension": ".py",
   "mimetype": "text/x-python",
   "name": "python",
   "nbconvert_exporter": "python",
   "pygments_lexer": "ipython3",
   "version": "3.9.12"
  }
 },
 "nbformat": 4,
 "nbformat_minor": 5
}
