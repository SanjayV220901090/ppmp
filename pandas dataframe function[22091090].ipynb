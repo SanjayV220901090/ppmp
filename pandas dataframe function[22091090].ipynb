{
 "cells": [
  {
   "cell_type": "code",
   "execution_count": 1,
   "id": "dcf7138c-8fd1-46ec-9c6e-cf0a817f919c",
   "metadata": {},
   "outputs": [],
   "source": [
    "import pandas as pd"
   ]
  },
  {
   "cell_type": "code",
   "execution_count": 2,
   "id": "c279f130-ecae-439e-9080-475e1b189246",
   "metadata": {},
   "outputs": [],
   "source": [
    "import numpy as np"
   ]
  },
  {
   "cell_type": "code",
   "execution_count": 5,
   "id": "0a639ec9-08b1-46d6-9f56-939185f24eab",
   "metadata": {},
   "outputs": [
    {
     "name": "stdout",
     "output_type": "stream",
     "text": [
      "DataFrame.apply function:\n",
      "\n",
      "\n",
      "Original DataFrame:\n",
      "    P  Q\n",
      "0  2  7\n",
      "1  2  7\n",
      "2  2  7\n",
      "\n",
      "square root of dataFrame:\n",
      "           P         Q\n",
      "0  1.414214  2.645751\n",
      "1  1.414214  2.645751\n",
      "2  1.414214  2.645751\n",
      "\n",
      "sum os each column\n",
      " P     6\n",
      "Q    21\n",
      "dtype: int64\n",
      "\n",
      "sum of each row:\n",
      " 0    9\n",
      "1    9\n",
      "2    9\n",
      "dtype: int64\n"
     ]
    }
   ],
   "source": [
    "print(\"DataFrame.apply function:\\n\")\n",
    "info=pd.DataFrame([[2,7]]*3,columns=['P','Q'])\n",
    "print(\"\\nOriginal DataFrame:\\n\",info)\n",
    "print(\"\\nsquare root of dataFrame:\\n\",info.apply(np.sqrt))\n",
    "print(\"\\nsum os each column\\n\",info.apply(np.sum,axis=0))\n",
    "print(\"\\nsum of each row:\\n\",info.apply(np.sum,axis=1))"
   ]
  },
  {
   "cell_type": "code",
   "execution_count": 6,
   "id": "5647758e-aa04-4b3d-8e7e-bf078a189bf6",
   "metadata": {},
   "outputs": [
    {
     "name": "stdout",
     "output_type": "stream",
     "text": [
      "\n",
      "Original DatFrame:\n",
      "    X  Y  Z\n",
      "0  1  5  7\n",
      "1  2  7  8\n",
      "2  3  6  9\n",
      "\n",
      "Minimum and maximum of each column:\n",
      "\n",
      "     X  Y  Z\n",
      "min  1  5  7\n",
      "max  3  7  9\n"
     ]
    }
   ],
   "source": [
    "info=pd.DataFrame([[1,5,7],[2,7,8],[3,6,9]],columns=['X','Y','Z'])\n",
    "print(\"\\nOriginal DatFrame:\\n\",info)\n",
    "print(\"\\nMinimum and maximum of each column:\\n\")\n",
    "print(info.agg(['min','max']))\n"
   ]
  },
  {
   "cell_type": "code",
   "execution_count": 8,
   "id": "164b07c7-27bc-4d67-a53b-8298772c68ca",
   "metadata": {},
   "outputs": [
    {
     "name": "stdout",
     "output_type": "stream",
     "text": [
      "\n",
      "Original DataFrame:\n",
      "     Emp   id\n",
      "0  Dale  123\n",
      "1  Mark  143\n",
      "\n",
      "Adding new column:\n",
      "     Emp   id  Age\n",
      "0  Dale  123   35\n",
      "1  Mark  143   40\n",
      "\n",
      "Adding new column:\n",
      "     Emp   id  Age   sex\n",
      "0  Dale  123   35  Male\n",
      "1  Mark  143   40  Male\n"
     ]
    }
   ],
   "source": [
    "d2=pd.DataFrame([['Dale',123],['Mark',143]],columns=[\"Emp\",\"id\"])\n",
    "print(\"\\nOriginal DataFrame:\\n\",d2)\n",
    "d2['Age']=[35,40]\n",
    "print(\"\\nAdding new column:\\n\",d2)\n",
    "d=d2.assign(sex=['Male','Male'])\n",
    "print(\"\\nAdding new column:\\n\",d)\n",
    "\n",
    "      "
   ]
  },
  {
   "cell_type": "code",
   "execution_count": 10,
   "id": "0b5fa947-e7ad-47f6-a7b3-8e326f3eca9e",
   "metadata": {},
   "outputs": [
    {
     "name": "stdout",
     "output_type": "stream",
     "text": [
      "\n",
      "DataFrame.Sort function:\n",
      "\n",
      "       col3      col4\n",
      "3  0.256552 -0.001282\n",
      "2 -0.045213  0.277807\n",
      "0  0.049837  0.745889\n",
      "4  1.257609  0.615669\n",
      "1 -0.753133 -1.817571\n",
      "\n",
      "Sort index:\n",
      "        col3      col4\n",
      "0  0.049837  0.745889\n",
      "1 -0.753133 -1.817571\n",
      "2 -0.045213  0.277807\n",
      "3  0.256552 -0.001282\n",
      "4  1.257609  0.615669\n",
      "\n",
      "sort Values:\n",
      "        col3      col4\n",
      "1 -0.753133 -1.817571\n",
      "2 -0.045213  0.277807\n",
      "0  0.049837  0.745889\n",
      "3  0.256552 -0.001282\n",
      "4  1.257609  0.615669\n"
     ]
    }
   ],
   "source": [
    "print(\"\\nDataFrame.Sort function:\\n\")\n",
    "info=pd.DataFrame(np.random.randn(5,2),index=[3,2,0,4,1],columns=['col3','col4'])\n",
    "print(info)\n",
    "info2=info.sort_index()\n",
    "print(\"\\nSort index:\\n\",info2)\n",
    "#info=pd.dataFrame({'col1':[7,1,8,3],'col2':[8,12,4,9]})\n",
    "info3=info.sort_values(by='col3')\n",
    "print(\"\\nsort Values:\\n\",info3)"
   ]
  },
  {
   "cell_type": "code",
   "execution_count": 6,
   "id": "1b64c168-6688-4dfb-8f03-7f90a6b8f741",
   "metadata": {},
   "outputs": [
    {
     "name": "stdout",
     "output_type": "stream",
     "text": [
      "\n",
      "DataFrame.Merge function:\n",
      "\n",
      "   id   Name   sub\n",
      "0   1    Sai  sub1\n",
      "1   2  sangu  sub2\n",
      "2   3   Sabb  sub4\n",
      "3   4  pravi  sub3\n",
      "   id    Name   sub\n",
      "0   1     som  sub2\n",
      "1   2   Saran  sub4\n",
      "2   3  sanjay  sub3\n",
      "3   4   shivi  sub5\n",
      "   id Name_x sub_x  Name_y sub_y\n",
      "0   1    Sai  sub1     som  sub2\n",
      "1   2  sangu  sub2   Saran  sub4\n",
      "2   3   Sabb  sub4  sanjay  sub3\n",
      "3   4  pravi  sub3   shivi  sub5\n"
     ]
    }
   ],
   "source": [
    "import pandas as pd\n",
    "import numpy as np\n",
    "\n",
    "print(\"\\nDataFrame.Merge function:\\n\")\n",
    "left=pd.DataFrame({'id': [1,2,3,4],\n",
    "                    'Name': ['Sai', 'sangu', 'Sabb', 'pravi'],\n",
    "                    'sub': ['sub1', 'sub2', 'sub4','sub3']})\n",
    "\n",
    "right=pd.DataFrame({\n",
    "                    'id':[1,2,3,4],\n",
    "                    'Name': ['som', 'Saran', 'sanjay', 'shivi'],\n",
    "                    'sub':['sub2', 'sub4', 'sub3', 'sub5']})\n",
    "print(left)\n",
    "print(right)\n",
    "print(pd.merge(left,right,on=\"id\"))"
   ]
  },
  {
   "cell_type": "code",
   "execution_count": null,
   "id": "7b5dff2a-88b6-41a4-ae24-b5423edb0c27",
   "metadata": {},
   "outputs": [],
   "source": []
  },
  {
   "cell_type": "code",
   "execution_count": null,
   "id": "43279a98-9405-48da-b210-27facf9ba5ad",
   "metadata": {},
   "outputs": [],
   "source": []
  },
  {
   "cell_type": "code",
   "execution_count": null,
   "id": "753bf46f-8376-47b0-8967-7200a1ec9b96",
   "metadata": {},
   "outputs": [],
   "source": []
  }
 ],
 "metadata": {
  "kernelspec": {
   "display_name": "Python 3 (ipykernel)",
   "language": "python",
   "name": "python3"
  },
  "language_info": {
   "codemirror_mode": {
    "name": "ipython",
    "version": 3
   },
   "file_extension": ".py",
   "mimetype": "text/x-python",
   "name": "python",
   "nbconvert_exporter": "python",
   "pygments_lexer": "ipython3",
   "version": "3.11.7"
  }
 },
 "nbformat": 4,
 "nbformat_minor": 5
}
