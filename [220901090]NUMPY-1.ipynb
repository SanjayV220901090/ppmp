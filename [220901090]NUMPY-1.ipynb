{
 "cells": [
  {
   "cell_type": "code",
   "execution_count": 1,
   "id": "29f0f0fa-83bb-4825-b582-150bb4436ee1",
   "metadata": {},
   "outputs": [],
   "source": [
    "import numpy as np\n"
   ]
  },
  {
   "cell_type": "code",
   "execution_count": 3,
   "id": "91518293-21e9-4d1a-8bde-6761a8f6c24c",
   "metadata": {},
   "outputs": [
    {
     "name": "stdout",
     "output_type": "stream",
     "text": [
      "Array created using passed list.\n",
      " [[1 2 4]\n",
      " [5 8 7]]\n"
     ]
    }
   ],
   "source": [
    "a=np.array([[1,2,4],[5,8,7]]) \n",
    "print(\"Array created using passed list.\\n\",a)"
   ]
  },
  {
   "cell_type": "code",
   "execution_count": 4,
   "id": "f049659c-f0b3-4cd5-971c-85dd81a29f37",
   "metadata": {},
   "outputs": [
    {
     "name": "stdout",
     "output_type": "stream",
     "text": [
      "\n",
      "An array initialized with all zeros: \n",
      " [[0. 0. 0. 0.]\n",
      " [0. 0. 0. 0.]\n",
      " [0. 0. 0. 0.]]\n"
     ]
    }
   ],
   "source": [
    "b=np.zeros((3,4)) \n",
    "print(\"\\nAn array initialized with all zeros: \\n\", b)\n"
   ]
  },
  {
   "cell_type": "code",
   "execution_count": 9,
   "id": "476af269-e581-4f99-9ad2-6fb74e8c4e2d",
   "metadata": {},
   "outputs": [
    {
     "name": "stdout",
     "output_type": "stream",
     "text": [
      "nAn array initialized with all 6s.\n",
      " [[6 6 6]\n",
      " [6 6 6]\n",
      " [6 6 6]]\n"
     ]
    }
   ],
   "source": [
    " c=np.full ((3, 3), 6) \n",
    "print(\"nAn array initialized with all 6s.\\n\",c)\n"
   ]
  },
  {
   "cell_type": "code",
   "execution_count": 12,
   "id": "f3961fae-780d-4209-ab3e-4e6b349ed2cb",
   "metadata": {},
   "outputs": [
    {
     "name": "stdout",
     "output_type": "stream",
     "text": [
      "\n",
      "A random array.\n",
      " [[0.42469201 0.94139513]\n",
      " [0.21379544 0.03363029]]\n"
     ]
    }
   ],
   "source": [
    " d=np.random.random((2,2)) \n",
    "print(\"\\nA random array.\\n\",d)"
   ]
  },
  {
   "cell_type": "code",
   "execution_count": 17,
   "id": "5a8eb3df-142e-47c8-ae82-06ad8fb182ab",
   "metadata": {},
   "outputs": [
    {
     "name": "stdout",
     "output_type": "stream",
     "text": [
      "\n",
      "A sequential array with steps of 5:\n",
      " [ 0  5 10 15 20 25]\n"
     ]
    }
   ],
   "source": [
    "\n",
    "e=np.arange(0, 30, 5)\n",
    "\n",
    "print (\"\\nA sequential array with steps of 5:\\n\", e)\n"
   ]
  },
  {
   "cell_type": "code",
   "execution_count": 20,
   "id": "657c8400-10af-490b-88bd-194419b7fa93",
   "metadata": {},
   "outputs": [
    {
     "name": "stdout",
     "output_type": "stream",
     "text": [
      "\n",
      "Original array:\n",
      " [[1 2 3 4]\n",
      " [5 2 4 2]\n",
      " [1 2 0 1]]\n",
      "Reshaped array(4,3):\n",
      " [[1 2 3]\n",
      " [4 5 2]\n",
      " [4 2 1]\n",
      " [2 0 1]]\n"
     ]
    }
   ],
   "source": [
    "arr=np.array([[1, 2, 3, 4],[5, 2, 4, 2],[1,2,0,1]])\n",
    "\n",
    "newarr=arr.reshape(4, 3)\n",
    "print(\"\\nOriginal array:\\n\",arr)\n",
    "\n",
    "print (\"Reshaped array(4,3):\\n\",newarr)\n",
    "\n"
   ]
  },
  {
   "cell_type": "code",
   "execution_count": 21,
   "id": "dd2db18e-69dd-438a-ad2d-0b18eaac4f81",
   "metadata": {},
   "outputs": [
    {
     "name": "stdout",
     "output_type": "stream",
     "text": [
      "\n",
      "Original array \n",
      " [[1 2 3 4]\n",
      " [5 2 4 2]\n",
      " [1 2 0 1]]\n",
      "Fattened array:\n",
      " [1 2 3 4 5 2 4 2 1 2 0 1]\n"
     ]
    }
   ],
   "source": [
    "flarr = arr.flatten()\n",
    "\n",
    "print(\"\\nOriginal array \\n\",arr)\n",
    "\n",
    "print (\"Fattened array:\\n\",flarr)\n"
   ]
  },
  {
   "cell_type": "code",
   "execution_count": 24,
   "id": "438f2dcb-af76-4fbd-8f63-685c466a4f63",
   "metadata": {},
   "outputs": [
    {
     "name": "stdout",
     "output_type": "stream",
     "text": [
      "\n",
      "No. of dimensions: 2\n",
      "\n",
      "Shape of array:  (3, 4)\n"
     ]
    }
   ],
   "source": [
    "print(\"\\nNo. of dimensions:\",arr.ndim)\n",
    "print(\"\\nShape of array: \",arr.shape)\n"
   ]
  },
  {
   "cell_type": "code",
   "execution_count": 25,
   "id": "f49e381c-33a1-4bb6-bc8e-c8e551f5fc45",
   "metadata": {},
   "outputs": [
    {
     "name": "stdout",
     "output_type": "stream",
     "text": [
      "\n",
      "Size of array: 12\n",
      "\n",
      "Array stores elements of type:  int64\n"
     ]
    }
   ],
   "source": [
    "print(\"\\nSize of array:\",arr.size)\n",
    "\n",
    "\n",
    "print(\"\\nArray stores elements of type: \", arr.dtype)\n",
    "\n"
   ]
  },
  {
   "cell_type": "code",
   "execution_count": 27,
   "id": "5ce4d6ba-1f51-4681-874a-30abbc3081de",
   "metadata": {},
   "outputs": [
    {
     "name": "stdout",
     "output_type": "stream",
     "text": [
      "\n",
      "Converted array elemnets:\n",
      " [[1. 2. 3. 4.]\n",
      " [5. 2. 4. 2.]\n",
      " [1. 2. 0. 1.]]\n",
      "Converted array type: float32\n"
     ]
    }
   ],
   "source": [
    "newtype=arr.astype('f')\n",
    "\n",
    "print(\"\\nConverted array elemnets:\\n\",newtype)\n",
    "\n",
    "print(\"Converted array type:\",newtype.dtype)"
   ]
  },
  {
   "cell_type": "code",
   "execution_count": null,
   "id": "f394107c-72bf-4321-a48f-98e859e4b8d6",
   "metadata": {},
   "outputs": [],
   "source": []
  }
 ],
 "metadata": {
  "kernelspec": {
   "display_name": "Python 3 (ipykernel)",
   "language": "python",
   "name": "python3"
  },
  "language_info": {
   "codemirror_mode": {
    "name": "ipython",
    "version": 3
   },
   "file_extension": ".py",
   "mimetype": "text/x-python",
   "name": "python",
   "nbconvert_exporter": "python",
   "pygments_lexer": "ipython3",
   "version": "3.12.4"
  }
 },
 "nbformat": 4,
 "nbformat_minor": 5
}
