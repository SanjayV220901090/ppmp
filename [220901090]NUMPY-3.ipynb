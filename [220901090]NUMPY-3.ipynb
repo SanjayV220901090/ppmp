{
 "cells": [
  {
   "cell_type": "code",
   "execution_count": 2,
   "id": "766ee69d-4751-47d8-a7e1-cd5aeffeca92",
   "metadata": {},
   "outputs": [],
   "source": [
    "import numpy as np"
   ]
  },
  {
   "cell_type": "code",
   "execution_count": 3,
   "id": "1b52c344-0559-4353-adb1-b6fb33178fd2",
   "metadata": {},
   "outputs": [
    {
     "name": "stdout",
     "output_type": "stream",
     "text": [
      "Original array: [1 2 3 4 5 4 4]\n"
     ]
    }
   ],
   "source": [
    "arr= np.array([1, 2, 3, 4, 5, 4, 4])\n",
    "\n",
    "print(\"Original array:\", arr)\n"
   ]
  },
  {
   "cell_type": "code",
   "execution_count": 4,
   "id": "2ded5e5c-2940-4ace-82c5-e9cbca7d01af",
   "metadata": {},
   "outputs": [
    {
     "name": "stdout",
     "output_type": "stream",
     "text": [
      "\n",
      "Indexes where the value is 4: (array([3, 5, 6]),)\n"
     ]
    }
   ],
   "source": [
    "x= np.where(arr == 4)\n",
    "\n",
    "print(\"\\nIndexes where the value is 4:\",x)\n"
   ]
  },
  {
   "cell_type": "code",
   "execution_count": 6,
   "id": "052cefd5-8cd3-4c65-9f2f-f2cab9f9e848",
   "metadata": {},
   "outputs": [
    {
     "name": "stdout",
     "output_type": "stream",
     "text": [
      "\n",
      "Original array: [1 2 3 4 5 6 7 8]\n",
      "\n",
      "indexes where the values are even: (array([1, 3, 5, 7]),)\n"
     ]
    }
   ],
   "source": [
    "arr = np.array([1, 2, 3, 4, 5, 6, 7, 8])\n",
    "\n",
    "x= np.where(arr%2 == 0)\n",
    "\n",
    "print(\"\\nOriginal array:\",arr)\n",
    "\n",
    "print(\"\\nindexes where the values are even:\",x)\n"
   ]
  },
  {
   "cell_type": "code",
   "execution_count": 9,
   "id": "31c8ee00-1f05-4445-9ba8-ca8a982f433c",
   "metadata": {},
   "outputs": [
    {
     "name": "stdout",
     "output_type": "stream",
     "text": [
      "\n",
      "indexes where the value 3 should be inserted, starting from the right. 2\n"
     ]
    }
   ],
   "source": [
    "x = np.searchsorted(arr,3, side='left')\n",
    "print(\"\\nindexes where the value 3 should be inserted, starting from the right.\",x)"
   ]
  },
  {
   "cell_type": "code",
   "execution_count": 12,
   "id": "0cba7efa-3a58-4515-8644-081e93615bcd",
   "metadata": {},
   "outputs": [
    {
     "name": "stdout",
     "output_type": "stream",
     "text": [
      "\n",
      "Original array  [3 2 0 1]\n",
      "\n",
      "Sorted array. [0 1 2 3]\n"
     ]
    }
   ],
   "source": [
    "arr=np.array([3, 2, 0, 1])\n",
    "\n",
    "print(\"\\nOriginal array \",arr)\n",
    "\n",
    "print(\"\\nSorted array.\",np.sort(arr))\n"
   ]
  },
  {
   "cell_type": "code",
   "execution_count": 13,
   "id": "754b3a95-ae9a-4259-96cd-171ff0f228b8",
   "metadata": {},
   "outputs": [
    {
     "name": "stdout",
     "output_type": "stream",
     "text": [
      "\n",
      "Original array: [[3 2 4]\n",
      " [5 0 1]]\n",
      "\n",
      "Sorted array: [[2 3 4]\n",
      " [0 1 5]]\n"
     ]
    }
   ],
   "source": [
    "arr=np.array([[3, 2, 4], [5, 0, 1]])\n",
    "\n",
    "print(\"\\nOriginal array:\",arr)\n",
    "\n",
    "print(\"\\nSorted array:\",np.sort(arr))"
   ]
  },
  {
   "cell_type": "code",
   "execution_count": 14,
   "id": "c031d3b3-8a3a-42fc-ae79-263b43bd3f26",
   "metadata": {},
   "outputs": [
    {
     "name": "stdout",
     "output_type": "stream",
     "text": [
      "\n",
      "Original array. [41 42 43 44]\n",
      "\n",
      "Filter index: [True, False, True, False]\n",
      "\n",
      "Filter array: [41 43]\n"
     ]
    }
   ],
   "source": [
    "arr = np.array([41, 42, 43, 44])\n",
    "\n",
    "x = [True, False, True, False]\n",
    "\n",
    "newarr = arr[x]\n",
    "\n",
    "print(\"\\nOriginal array.\",arr)\n",
    "\n",
    "print(\"\\nFilter index:\",x)\n",
    "\n",
    "print(\"\\nFilter array:\", newarr)\n",
    "\n"
   ]
  },
  {
   "cell_type": "code",
   "execution_count": 17,
   "id": "de253366-9c81-4484-99e8-4c3a3e59742f",
   "metadata": {},
   "outputs": [
    {
     "name": "stdout",
     "output_type": "stream",
     "text": [
      "\n",
      "Original array: [41 42 43 44]\n",
      "\n",
      "Filter array:condition->42: [False False  True  True]\n",
      "\n",
      "New array: [43 44]\n"
     ]
    }
   ],
   "source": [
    "\n",
    "arr = np.array([41, 42, 43, 44])\n",
    "\n",
    "filter_arr = arr > 42\n",
    "\n",
    "newarr = arr[filter_arr]\n",
    "\n",
    "print(\"\\nOriginal array:\",arr)\n",
    "\n",
    "print(\"\\nFilter array:condition->42:\",filter_arr)\n",
    "\n",
    "print(\"\\nNew array:\",newarr)\n"
   ]
  },
  {
   "cell_type": "code",
   "execution_count": null,
   "id": "25be9d69-cea0-4676-9575-f12993fb7313",
   "metadata": {},
   "outputs": [],
   "source": []
  }
 ],
 "metadata": {
  "kernelspec": {
   "display_name": "Python 3 (ipykernel)",
   "language": "python",
   "name": "python3"
  },
  "language_info": {
   "codemirror_mode": {
    "name": "ipython",
    "version": 3
   },
   "file_extension": ".py",
   "mimetype": "text/x-python",
   "name": "python",
   "nbconvert_exporter": "python",
   "pygments_lexer": "ipython3",
   "version": "3.12.4"
  }
 },
 "nbformat": 4,
 "nbformat_minor": 5
}
